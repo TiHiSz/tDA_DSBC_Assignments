{
 "cells": [
  {
   "cell_type": "code",
   "execution_count": null,
   "id": "1f948d66",
   "metadata": {},
   "outputs": [],
   "source": [
    "\"\"\"\n",
    "Mad libs Generator: Ayesha, Zaynab, Mohammed & Tim\n",
    "\"\"\"\n",
    "\n",
    "print(\"Mad libs generator. Follow the prompts and get a hilarious outcome!\\n\")\n",
    "\n",
    "mdlib1 = input(\"Enter an adjective: \").lower()\n",
    "mdlib2 = input(\"Enter an verb: \").lower()\n",
    "mdlib3 = input(\"Enter an noun: \").lower()\n",
    "mdlib4 = input(\"Enter an adjective: \").lower()\n",
    "mdlib5 = input(\"Enter an noun: \").lower()\n",
    "mdlib6 = input(\"Enter an adjective: \").lower()\n",
    "mdlib7 = input(\"Enter an adjective: \").lower()\n",
    "mdlib8 = input(\"Enter an noun: \").capitalize()\n",
    "mdlib9 = input(\"Enter an noun: \").lower()\n",
    "mdlib10 = input(\"Enter an adverb: \").lower()\n",
    "\n",
    "print(f\"\"\"\n",
    "    One very {mdlib1} morning near the end of summer,\n",
    "    my mother {mdlib2} me up at 4:00 A.M. and said, \"Wake up and smell the {mdlib3}, sleepy head!\n",
    "    Today is {mdlib4} first day of school and you can't be late.\n",
    "    I groaned in my bed for twenty seconds, but eventually I got dressed.\n",
    "    The {mdlib5} came and I arrived at school.\n",
    "    In school, I met two really {mdlib6} kids. All of us became friends very {mdlib7}. Before I knew it, school was over.\n",
    "    {mdlib8} grabbed all my belongings and put them into my backpack. In two minutes, the {mdlib9} came. Then I went into the bus.\n",
    "    In a flash, I was back home.\n",
    "    This day was an {mdlib10} exciting day!\n",
    "    \"\"\")"
   ]
  }
 ],
 "metadata": {
  "language_info": {
   "name": "python"
  }
 },
 "nbformat": 4,
 "nbformat_minor": 5
}
